{
  "nbformat": 4,
  "nbformat_minor": 0,
  "metadata": {
    "colab": {
      "provenance": []
    },
    "kernelspec": {
      "name": "python3",
      "display_name": "Python 3"
    },
    "language_info": {
      "name": "python"
    }
  },
  "cells": [
    {
      "cell_type": "code",
      "execution_count": 5,
      "metadata": {
        "id": "UzYM46IZikDK",
        "colab": {
          "base_uri": "https://localhost:8080/"
        },
        "outputId": "5c2cc79c-8ff7-49eb-b73f-00fe6b53ee29"
      },
      "outputs": [
        {
          "name": "stdout",
          "output_type": "stream",
          "text": [
            "Enter the stock ticker symbol: msft\n"
          ]
        }
      ],
      "source": [
        "import requests\n",
        "import pandas as pd\n",
        "import json\n",
        "\n",
        "apikey = \"YwRNm2XRuZ9Vi9CcrLyLR9Lulyr0PPoAe3ZfBwyg\"\n",
        "url = \"https://yfapi.net/v6/finance/quote\"\n",
        "\n",
        "stock_symbol = input(\"Enter the stock ticker symbol: \")\n",
        "\n",
        "\n",
        "querystring = {\"symbols\": stock_symbol}\n",
        "headers = {\n",
        "    \"X-API-KEY\": apikey\n",
        "}\n",
        "\n",
        "response = requests.request(\"GET\", url, headers=headers, params=querystring)"
      ]
    },
    {
      "cell_type": "code",
      "source": [
        "if response.status_code == 200:\n",
        "    stock_json = response.json()\n",
        "    if stock_json['quoteResponse']['result']:\n",
        "        stock_info = stock_json['quoteResponse']['result'][0]\n",
        "\n",
        "        ticker_name = stock_symbol\n",
        "        stock_name = stock_info.get(\"longName\")\n",
        "        current_price = stock_info.get(\"regularMarketPrice\")\n",
        "        target_mean_price = stock_info.get(\"targetMeanPrice\")\n",
        "        week_52_high = stock_info.get(\"fiftyTwoWeekHigh\")\n",
        "        week_52_low = stock_info.get(\"fiftyTwoWeekLow\")\n",
        "\n",
        "        print(f\"\\nStock Information for {ticker_name}:\")\n",
        "        if stock_name:\n",
        "          print(f\"Full Name: {stock_name}\")\n",
        "        else:\n",
        "            print(\"Full Name: Not available.\")\n",
        "        if current_price:\n",
        "          print(f\"Current Market Price: ${current_price}\")\n",
        "        else:\n",
        "          print(\"Current Market Price: Not available.\")\n",
        "        if target_mean_price:\n",
        "          print(f\"Target Mean Price: ${target_mean_price}\")\n",
        "        else:\n",
        "          print(\"Target Mean Price: Not available.\")\n",
        "        if week_52_high:\n",
        "          print(f\"52-Week High: ${week_52_high}\")\n",
        "        else:\n",
        "          print(\"52-Week High: Not available.\")\n",
        "        if week_52_low:\n",
        "          print(f\"52-Week Low: ${week_52_low}\")\n",
        "        else:\n",
        "          print(\"52-Week Low: Not available.\")\n",
        "else:\n",
        "    print(f\"Failed to retrieve data: {response.status_code}\")"
      ],
      "metadata": {
        "colab": {
          "base_uri": "https://localhost:8080/"
        },
        "id": "DA1ZPEdJ8Zxv",
        "outputId": "e87d33d0-07ec-40e4-afd2-045f99eddf5e"
      },
      "execution_count": 6,
      "outputs": [
        {
          "output_type": "stream",
          "name": "stdout",
          "text": [
            "\n",
            "Stock Information for msft:\n",
            "Full Name: Microsoft Corporation\n",
            "Current Market Price: $428.02\n",
            "Target Mean Price: Not available.\n",
            "52-Week High: $468.35\n",
            "52-Week Low: $311.21\n"
          ]
        }
      ]
    },
    {
      "cell_type": "code",
      "source": [
        "trending_url = \"https://yfapi.net/v1/finance/trending/US\"\n",
        "response = requests.request(\"GET\", trending_url, headers=headers)\n",
        "\n",
        "if response.status_code == 200:\n",
        "    trending_json = response.json()\n",
        "    if trending_json['finance']['result']:\n",
        "        trending_stocks = trending_json['finance']['result'][0]['quotes']\n",
        "        print(\"\\n5 Trending Stocks:\")\n",
        "        for stock in trending_stocks[:5]:\n",
        "            print(stock['symbol'])\n",
        "            trending_name = stock['symbol']\n",
        "            trending_stock_name = stock_info.get(\"longName\")\n",
        "            trending_current_price = stock_info.get(\"regularMarketPrice\")\n",
        "            trending_target_mean_price = stock_info.get(\"targetMeanPrice\")\n",
        "            trending_week_52_high = stock_info.get(\"fiftyTwoWeekHigh\")\n",
        "            trending_week_52_low = stock_info.get(\"fiftyTwoWeekLow\")\n",
        "else:\n",
        "    print(f\"Failed to retrieve trending stocks data: {response.status_code}\")"
      ],
      "metadata": {
        "colab": {
          "base_uri": "https://localhost:8080/"
        },
        "id": "Ki9lSbUA_rfq",
        "outputId": "e5fbc944-30aa-4150-e3c0-a571bfeb1fea"
      },
      "execution_count": 7,
      "outputs": [
        {
          "output_type": "stream",
          "name": "stdout",
          "text": [
            "\n",
            "5 Trending Stocks:\n",
            "NQ=F\n",
            "ES=F\n",
            "YM=F\n",
            "AMSC\n",
            "GC=F\n"
          ]
        }
      ]
    },
    {
      "cell_type": "code",
      "source": [
        "stock_data = []\n",
        "trending_data = []\n",
        "stock_data.append([ticker_name, stock_name, current_price, target_mean_price, week_52_high, week_52_low])\n",
        "trending_data.append([trending_name, trending_stock_name, trending_current_price, trending_target_mean_price, trending_week_52_high, trending_week_52_low])\n",
        "df = pd.DataFrame(stock_data, trending_data)\n",
        "df.to_csv(f\"{stock_symbol}_stock_data.csv\", index=False)"
      ],
      "metadata": {
        "id": "VmfS0bDgAZbF"
      },
      "execution_count": 8,
      "outputs": []
    }
  ]
}